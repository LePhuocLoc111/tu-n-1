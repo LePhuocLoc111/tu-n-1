{
 "cells": [
  {
   "cell_type": "code",
   "execution_count": 6,
   "id": "362ed7fc",
   "metadata": {},
   "outputs": [
    {
     "name": "stdout",
     "output_type": "stream",
     "text": [
      "Đã lưu 3 ảnh với 3 màu khác nhau.\n"
     ]
    }
   ],
   "source": [
    "# bài 1\n",
    "import numpy as np\n",
    "import os\n",
    "import cv2  # Import thư viện OpenCV để xử lý ảnh\n",
    "\n",
    "# Tạo thư mục lưu ảnh nếu chưa có\n",
    "os.makedirs('output_images', exist_ok=True)\n",
    "\n",
    "# Đọc ảnh gốc (đảm bảo file bird.png nằm cùng thư mục với file code)\n",
    "img = cv2.imread('bird.png')\n",
    "\n",
    "# Tách các kênh màu\n",
    "b, g, r = cv2.split(img)\n",
    "\n",
    "# Tạo ảnh chỉ có 1 kênh màu (2 kênh còn lại = 0)\n",
    "zero = np.zeros_like(b)\n",
    "\n",
    "# Ảnh chỉ có kênh đỏ\n",
    "red_img = cv2.merge([zero, zero, r])\n",
    "cv2.imwrite('output_images/red_image.png', red_img)\n",
    "\n",
    "# Ảnh chỉ có kênh xanh lá\n",
    "green_img = cv2.merge([zero, g, zero])\n",
    "cv2.imwrite('output_images/green_image.png', green_img)\n",
    "\n",
    "# Ảnh chỉ có kênh xanh dương\n",
    "blue_img = cv2.merge([b, zero, zero])\n",
    "cv2.imwrite('output_images/blue_image.png', blue_img)\n",
    "\n",
    "print(\"Đã lưu 3 ảnh với 3 màu khác nhau.\")\n"
   ]
  },
  {
   "cell_type": "code",
   "execution_count": 7,
   "id": "62122c64",
   "metadata": {},
   "outputs": [
    {
     "name": "stdout",
     "output_type": "stream",
     "text": [
      "Đã hoán đổi màu và lưu ảnh.\n"
     ]
    }
   ],
   "source": [
    "# bài 2\n",
    "import cv2\n",
    "import os\n",
    "\n",
    "# Tạo thư mục lưu kết quả nếu chưa có\n",
    "os.makedirs('output_swapped_colors', exist_ok=True)\n",
    "\n",
    "# Đọc ảnh gốc\n",
    "img = cv2.imread('bird.png')  # Đảm bảo ảnh 'bird.png' nằm cùng thư mục\n",
    "\n",
    "# Hoán đổi các kênh màu\n",
    "# OpenCV lưu ảnh theo thứ tự BGR\n",
    "\n",
    "# 1. Hoán đổi R và G\n",
    "rg_img = img.copy()\n",
    "rg_img[:, :, [1, 2]] = rg_img[:, :, [2, 1]]  # Swap G và R\n",
    "cv2.imwrite('output_swapped_colors/swap_rg.png', rg_img)\n",
    "\n",
    "# 2. Hoán đổi G và B\n",
    "gb_img = img.copy()\n",
    "gb_img[:, :, [0, 1]] = gb_img[:, :, [1, 0]]  # Swap B và G\n",
    "cv2.imwrite('output_swapped_colors/swap_gb.png', gb_img)\n",
    "\n",
    "# 3. Hoán đổi B và R\n",
    "br_img = img.copy()\n",
    "br_img[:, :, [0, 2]] = br_img[:, :, [2, 0]]  # Swap B và R\n",
    "cv2.imwrite('output_swapped_colors/swap_br.png', br_img)\n",
    "\n",
    "print(\"Đã hoán đổi màu và lưu ảnh.\")\n"
   ]
  },
  {
   "cell_type": "code",
   "execution_count": 8,
   "id": "ab92b44e",
   "metadata": {},
   "outputs": [
    {
     "name": "stdout",
     "output_type": "stream",
     "text": [
      "Đã lưu 3 ảnh theo kênh H, S, V.\n"
     ]
    }
   ],
   "source": [
    "#bài 3\n",
    "import cv2\n",
    "import os\n",
    "import numpy as np\n",
    "\n",
    "# Tạo thư mục để lưu ảnh đầu ra\n",
    "os.makedirs('output_hsv_images', exist_ok=True)\n",
    "\n",
    "# Đọc ảnh gốc\n",
    "img = cv2.imread('bird.png')\n",
    "\n",
    "# Chuyển sang hệ màu HSV\n",
    "hsv_img = cv2.cvtColor(img, cv2.COLOR_BGR2HSV)\n",
    "\n",
    "# Tách 3 kênh: H (Hue), S (Saturation), V (Value)\n",
    "h, s, v = cv2.split(hsv_img)\n",
    "\n",
    "# Tạo ảnh hiển thị từng kênh với màu dễ quan sát\n",
    "# Chuyển từ HSV đơn kênh sang ảnh màu để lưu lại\n",
    "# Hue ảnh: giữ kênh H, đặt S và V ở giá trị tối đa\n",
    "hue_img = cv2.cvtColor(cv2.merge([h, 255 * np.ones_like(s), 255 * np.ones_like(v)]), cv2.COLOR_HSV2BGR)\n",
    "cv2.imwrite('output_hsv_images/hue_channel.png', hue_img)\n",
    "\n",
    "# Saturation ảnh: giữ kênh S, đặt H và V cố định\n",
    "sat_img = cv2.cvtColor(cv2.merge([90 * np.ones_like(h), s, 255 * np.ones_like(v)]), cv2.COLOR_HSV2BGR)\n",
    "cv2.imwrite('output_hsv_images/saturation_channel.png', sat_img)\n",
    "\n",
    "# Value ảnh: giữ kênh V, đặt H và S cố định\n",
    "val_img = cv2.cvtColor(cv2.merge([90 * np.ones_like(h), 255 * np.ones_like(s), v]), cv2.COLOR_HSV2BGR)\n",
    "cv2.imwrite('output_hsv_images/value_channel.png', val_img)\n",
    "\n",
    "print(\"Đã lưu 3 ảnh theo kênh H, S, V.\")\n"
   ]
  },
  {
   "cell_type": "code",
   "execution_count": 6,
   "id": "88d7b358",
   "metadata": {},
   "outputs": [
    {
     "name": "stdout",
     "output_type": "stream",
     "text": [
      "Đã lưu ảnh với H_new = 1/3 * H và V_new = 3/4 * V.\n"
     ]
    }
   ],
   "source": [
    "#bài 4\n",
    "import cv2\n",
    "import numpy as np\n",
    "import os\n",
    "\n",
    "# Tạo thư mục để lưu ảnh kết quả\n",
    "os.makedirs('output_modified_hsv', exist_ok=True)\n",
    "\n",
    "# Đọc ảnh gốc\n",
    "img = cv2.imread('bird.png')\n",
    "\n",
    "# Chuyển ảnh sang hệ màu HSV\n",
    "hsv_img = cv2.cvtColor(img, cv2.COLOR_BGR2HSV)\n",
    "\n",
    "# Tách các kênh H, S, V\n",
    "h, s, v = cv2.split(hsv_img)\n",
    "\n",
    "# Áp dụng biến đổi theo đề bài\n",
    "# H (Hue) trong OpenCV nằm trong khoảng 0-179\n",
    "# => cần đảm bảo sau khi chia 3 vẫn nằm trong khoảng 0-179\n",
    "h_new = np.clip((h / 3), 0, 179).astype(np.uint8)\n",
    "v_new = np.clip((v * 0.75), 0, 255).astype(np.uint8)\n",
    "\n",
    "# Gộp lại các kênh đã chỉnh sửa với S giữ nguyên\n",
    "hsv_modified = cv2.merge([h_new, s, v_new])\n",
    "\n",
    "# Chuyển lại sang ảnh RGB (hoặc BGR) để lưu\n",
    "result_img = cv2.cvtColor(hsv_modified, cv2.COLOR_HSV2BGR)\n",
    "\n",
    "# Lưu ảnh kết quả\n",
    "cv2.imwrite('output_modified_hsv/modified_hsv_image.png', result_img)\n",
    "\n",
    "print(\"Đã lưu ảnh với H_new = 1/3 * H và V_new = 3/4 * V.\")\n"
   ]
  },
  {
   "cell_type": "code",
   "execution_count": null,
   "id": "5dd5af48",
   "metadata": {},
   "outputs": [
    {
     "name": "stdout",
     "output_type": "stream",
     "text": [
      "✅ Đã lọc nhiễu và lưu ảnh vào các thư mục tương ứng.\n"
     ]
    }
   ],
   "source": [
    "#bài 5\n",
    "import cv2\n",
    "import os\n",
    "\n",
    "# Đường dẫn đến thư mục chứa ảnh gốc\n",
    "input_folder = r'D:\\197ct09831\\LAB1'\n",
    "output_folder = 'Exercise_mean_filtered'\n",
    "\n",
    "# Tạo thư mục đầu ra nếu chưa có\n",
    "os.makedirs(output_folder, exist_ok=True)\n",
    "\n",
    "# Kích thước kernel cho mean filter\n",
    "kernel_size = (5, 5)\n",
    "\n",
    "# Duyệt qua từng ảnh trong thư mục\n",
    "for filename in os.listdir(input_folder):\n",
    "    if filename.lower().endswith(('.png', '.jpg', '.jpeg', '.bmp')):\n",
    "        image_path = os.path.join(input_folder, filename)\n",
    "        img = cv2.imread(image_path)\n",
    "\n",
    "        # Áp dụng mean filter\n",
    "        mean_filtered = cv2.blur(img, kernel_size)\n",
    "\n",
    "        # Lưu ảnh kết quả\n",
    "        output_path = os.path.join(output_folder, f'mean_{filename}')\n",
    "        cv2.imwrite(output_path, mean_filtered)\n",
    "\n",
    "print(\"✅ Đã áp dụng mean filter và lưu ảnh vào thư mục:\", output_folder)\n"
   ]
  },
  {
   "cell_type": "code",
   "execution_count": null,
   "id": "c5707e9a",
   "metadata": {},
   "outputs": [
    {
     "name": "stdout",
     "output_type": "stream",
     "text": [
      "✅ Đã lọc nhiễu và lưu ảnh vào các thư mục tương ứng.\n"
     ]
    }
   ],
   "source": [
    "#bài 6\n",
    "import cv2\n",
    "import os\n",
    "\n",
    "# Thư mục chứa ảnh gốc\n",
    "input_folder = r'D:\\197ct09831\\LAB1'\n",
    "\n",
    "# Các thư mục đầu ra cho từng filter\n",
    "output_folders = {\n",
    "    'mean': 'filtered_mean',\n",
    "    'gaussian': 'filtered_gaussian',\n",
    "    'median': 'filtered_median'\n",
    "}\n",
    "\n",
    "# Tạo thư mục nếu chưa có\n",
    "for folder in output_folders.values():\n",
    "    os.makedirs(folder, exist_ok=True)\n",
    "\n",
    "# Kernel dùng chung\n",
    "kernel_size = (5, 5)\n",
    "\n",
    "# Lặp qua từng ảnh\n",
    "for filename in os.listdir(input_folder):\n",
    "    if filename.lower().endswith(('.png', '.jpg', '.jpeg', '.bmp')):\n",
    "        image_path = os.path.join(input_folder, filename)\n",
    "        img = cv2.imread(image_path)\n",
    "\n",
    "        # Mean filter\n",
    "        mean_img = cv2.blur(img, kernel_size)\n",
    "        cv2.imwrite(os.path.join(output_folders['mean'], f'mean_{filename}'), mean_img)\n",
    "\n",
    "        # Gaussian filter\n",
    "        gaussian_img = cv2.GaussianBlur(img, kernel_size, 0)\n",
    "        cv2.imwrite(os.path.join(output_folders['gaussian'], f'gaussian_{filename}'), gaussian_img)\n",
    "\n",
    "        # Median filter\n",
    "        median_img = cv2.medianBlur(img, 5)\n",
    "        cv2.imwrite(os.path.join(output_folders['median'], f'median_{filename}'), median_img)\n",
    "\n",
    "print(\"✅ Đã lọc nhiễu và lưu ảnh vào các thư mục tương ứng.\")\n"
   ]
  },
  {
   "cell_type": "code",
   "execution_count": null,
   "id": "fe578746",
   "metadata": {},
   "outputs": [
    {
     "name": "stdout",
     "output_type": "stream",
     "text": [
      "✅ Đã lọc nhiễu, xác định biên và lưu các ảnh kết quả.\n"
     ]
    }
   ],
   "source": [
    "#bài 7\n",
    "import cv2\n",
    "import os\n",
    "\n",
    "# Thư mục chứa ảnh gốc\n",
    "input_folder = r'D:\\197ct09831\\LAB1'\n",
    "output_folder = 'edge_detected_images'\n",
    "os.makedirs(output_folder, exist_ok=True)\n",
    "\n",
    "# Kernel size\n",
    "kernel_size = (5, 5)\n",
    "\n",
    "# Duyệt qua từng ảnh trong thư mục\n",
    "for filename in os.listdir(input_folder):\n",
    "    if filename.lower().endswith(('.png', '.jpg', '.jpeg', '.bmp')):\n",
    "        image_path = os.path.join(input_folder, filename)\n",
    "        img = cv2.imread(image_path)\n",
    "\n",
    "        # === 1. Khử nhiễu bằng median filter ===\n",
    "        denoised = cv2.medianBlur(img, 5)\n",
    "\n",
    "        # === 2. Chuyển sang grayscale để xác định biên ===\n",
    "        gray = cv2.cvtColor(denoised, cv2.COLOR_BGR2GRAY)\n",
    "\n",
    "        # === 3. Xác định biên bằng các phương pháp khác nhau ===\n",
    "        edges_canny = cv2.Canny(gray, 100, 200)\n",
    "        edges_sobel = cv2.Sobel(gray, cv2.CV_64F, 1, 0, ksize=5)\n",
    "        edges_laplacian = cv2.Laplacian(gray, cv2.CV_64F)\n",
    "\n",
    "        # Chuyển Sobel và Laplacian về định dạng có thể lưu\n",
    "        edges_sobel = cv2.convertScaleAbs(edges_sobel)\n",
    "        edges_laplacian = cv2.convertScaleAbs(edges_laplacian)\n",
    "\n",
    "        # === 4. Lưu kết quả ===\n",
    "        cv2.imwrite(os.path.join(output_folder, f'{filename}_canny.jpg'), edges_canny)\n",
    "        cv2.imwrite(os.path.join(output_folder, f'{filename}_sobel.jpg'), edges_sobel)\n",
    "        cv2.imwrite(os.path.join(output_folder, f'{filename}_laplacian.jpg'), edges_laplacian)\n",
    "\n",
    "print(\"✅ Đã lọc nhiễu, xác định biên và lưu các ảnh kết quả.\")\n"
   ]
  },
  {
   "cell_type": "code",
   "execution_count": null,
   "id": "91eff03c",
   "metadata": {},
   "outputs": [
    {
     "name": "stdout",
     "output_type": "stream",
     "text": [
      "✅ Đã khử nhiễu, đổi màu RGB ngẫu nhiên và lưu ảnh vào thư mục.\n"
     ]
    }
   ],
   "source": [
    "#bài 8\n",
    "import cv2\n",
    "import os\n",
    "import numpy as np\n",
    "\n",
    "# Đường dẫn thư mục chứa ảnh gốc (cập nhật theo đường dẫn trên máy bạn)\n",
    "input_folder = r'D:\\197ct09831\\LAB1'\n",
    "output_folder = 'color_randomized_images'\n",
    "os.makedirs(output_folder, exist_ok=True)\n",
    "\n",
    "# Duyệt từng ảnh trong thư mục\n",
    "for filename in os.listdir(input_folder):\n",
    "    if filename.lower().endswith(('.png', '.jpg', '.jpeg', '.bmp')):\n",
    "        image_path = os.path.join(input_folder, filename)\n",
    "        img = cv2.imread(image_path)\n",
    "\n",
    "        # === 1. Khử nhiễu bằng Median Filter ===\n",
    "        denoised = cv2.medianBlur(img, 5)\n",
    "\n",
    "        # === 2. Đổi màu RGB ngẫu nhiên ===\n",
    "        channels = list(cv2.split(denoised))  # Chuyển tuple thành list\n",
    "        np.random.shuffle(channels)           # Xáo trộn thứ tự kênh màu\n",
    "        randomized_rgb = cv2.merge(channels)  # Kết hợp lại thành ảnh màu\n",
    "\n",
    "        # === 3. Lưu ảnh kết quả ===\n",
    "        output_path = os.path.join(output_folder, f'randomRGB_{filename}')\n",
    "        cv2.imwrite(output_path, randomized_rgb)\n",
    "\n",
    "print(\"✅ Đã khử nhiễu, đổi màu RGB ngẫu nhiên và lưu ảnh vào thư mục.\")\n"
   ]
  },
  {
   "cell_type": "code",
   "execution_count": null,
   "id": "6c9577f8",
   "metadata": {},
   "outputs": [
    {
     "name": "stdout",
     "output_type": "stream",
     "text": [
      "✅ Đã khử nhiễu, đổi màu HSV ngẫu nhiên không trùng và lưu ảnh.\n"
     ]
    }
   ],
   "source": [
    "# bài 9\n",
    "import cv2\n",
    "import os\n",
    "import numpy as np\n",
    "\n",
    "# Đường dẫn thư mục chứa ảnh gốc (cập nhật lại đúng đường dẫn của bạn)\n",
    "input_folder = r'D:\\197ct09831\\LAB1'\n",
    "output_folder = 'hsv_randomized_images'\n",
    "os.makedirs(output_folder, exist_ok=True)\n",
    "\n",
    "# Duyệt từng ảnh trong thư mục\n",
    "for filename in os.listdir(input_folder):\n",
    "    if filename.lower().endswith(('.png', '.jpg', '.jpeg', '.bmp')):\n",
    "        image_path = os.path.join(input_folder, filename)\n",
    "        img = cv2.imread(image_path)\n",
    "\n",
    "        # === 1. Khử nhiễu bằng Median Filter ===\n",
    "        denoised = cv2.medianBlur(img, 5)\n",
    "\n",
    "        # === 2. Chuyển ảnh sang không gian HSV ===\n",
    "        hsv_img = cv2.cvtColor(denoised, cv2.COLOR_BGR2HSV)\n",
    "\n",
    "        # Tách kênh HSV\n",
    "        h, s, v = cv2.split(hsv_img)\n",
    "\n",
    "        # Tạo danh sách các kênh và xáo trộn thứ tự (không trùng lặp)\n",
    "        channels = [h, s, v]\n",
    "        np.random.shuffle(channels)\n",
    "\n",
    "        # Gộp lại theo thứ tự ngẫu nhiên\n",
    "        shuffled_hsv = cv2.merge(channels)\n",
    "\n",
    "        # Chuyển ngược về BGR để lưu ảnh\n",
    "        output_img = cv2.cvtColor(shuffled_hsv, cv2.COLOR_HSV2BGR)\n",
    "\n",
    "        # === 3. Lưu ảnh kết quả ===\n",
    "        output_path = os.path.join(output_folder, f'randomHSV_{filename}')\n",
    "        cv2.imwrite(output_path, output_img)\n",
    "\n",
    "print(\"✅ Đã khử nhiễu, đổi màu HSV ngẫu nhiên không trùng và lưu ảnh.\")\n"
   ]
  }
 ],
 "metadata": {
  "kernelspec": {
   "display_name": "base",
   "language": "python",
   "name": "python3"
  },
  "language_info": {
   "codemirror_mode": {
    "name": "ipython",
    "version": 3
   },
   "file_extension": ".py",
   "mimetype": "text/x-python",
   "name": "python",
   "nbconvert_exporter": "python",
   "pygments_lexer": "ipython3",
   "version": "3.9.13"
  }
 },
 "nbformat": 4,
 "nbformat_minor": 5
}
